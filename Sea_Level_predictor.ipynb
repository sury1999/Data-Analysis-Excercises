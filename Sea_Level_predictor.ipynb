{
  "nbformat": 4,
  "nbformat_minor": 0,
  "metadata": {
    "colab": {
      "name": "Sea_Level_predictor.ipynb",
      "provenance": [],
      "authorship_tag": "ABX9TyNiEbKE9x5Z9Kitw/zGZiKy",
      "include_colab_link": true
    },
    "kernelspec": {
      "name": "python3",
      "display_name": "Python 3"
    }
  },
  "cells": [
    {
      "cell_type": "markdown",
      "metadata": {
        "id": "view-in-github",
        "colab_type": "text"
      },
      "source": [
        "<a href=\"https://colab.research.google.com/github/sury1999/Data-Analysis-Excercises/blob/main/Sea_Level_predictor.ipynb\" target=\"_parent\"><img src=\"https://colab.research.google.com/assets/colab-badge.svg\" alt=\"Open In Colab\"/></a>"
      ]
    },
    {
      "cell_type": "markdown",
      "metadata": {
        "id": "pTCUm1umDLJR"
      },
      "source": [
        "#**FreeCodeCamp Project #5** \r\n",
        "#**Sea Level Predictor**"
      ]
    },
    {
      "cell_type": "markdown",
      "metadata": {
        "id": "A4-5-Qm5D1J8"
      },
      "source": [
        "##**Assignment**\r\n",
        "You will analyze a dataset of the global average sea level change since 1880. You will use the data to predict the sea level change through year 2050."
      ]
    },
    {
      "cell_type": "markdown",
      "metadata": {
        "id": "mVE2cVO8D9SB"
      },
      "source": [
        "Use the data to complete the following tasks:\r\n",
        "\r\n",
        "*  Use Pandas to import the data from epa-sea-level.csv.\r\n",
        "*  Use matplotlib to create a scatter plot using the \"Year\" column as the x-axis and the \"CSIRO Adjusted Sea Level\" column as the y-axix.\r\n",
        "*  Use the linregress function from scipi.stats to get the slope and y-intercept of the line of best fit. Plot the line of best fit over the top of the scatter plot. Make the line go through the year 2050 to predict the sea level rise in 2050.\r\n",
        "*  Plot a new line of best fit just using the data from year 2000 through the most recent year in the dataset. Make the line also go through the year 2050 to predict the sea level rise in 2050 if the rate of rise continues as it has since the year 2000.\r\n",
        "T*  he x label should be \"Year\", the y label should be \"Sea Level (inches)\", and the title should be \"Rise in Sea Level\"."
      ]
    }
  ]
}